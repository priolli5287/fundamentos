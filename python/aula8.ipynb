{
 "cells": [
  {
   "cell_type": "code",
   "execution_count": null,
   "metadata": {},
   "outputs": [],
   "source": [
    "n1=float(input(f'digite o 1 valor: '))\n",
    "n2=float(input(f'digite o 2 valor: '))\n",
    "n3=float(input(f'digite o 3 valor: '))\n",
    "n4=float(input(f'digite o 4 valor: '))\n",
    "n5=float(input(f'digite o 5 valor: '))\n",
    "\n",
    "\n",
    "\n",
    "z = [n1,n2,n3,n4,n5]\n",
    "print('lista completa: ',z)\n",
    "print('primeiro elemento: ',z[0])\n",
    "print('ultimo elemento: ',z[-1])"
   ]
  },
  {
   "cell_type": "code",
   "execution_count": null,
   "metadata": {},
   "outputs": [],
   "source": [
    "lista=[]\n",
    "for _ in range(5):\n",
    "    valor = float(input(f'digite um numero'))\n",
    "    lista.append(valor)\n",
    "\n",
    "print('lista completa: ',lista)\n",
    "print('primeiro elemento: ',lista[0])\n",
    "print('ultimo elemento: ',lista[-1])"
   ]
  },
  {
   "cell_type": "code",
   "execution_count": null,
   "metadata": {},
   "outputs": [],
   "source": [
    "T=[11,7,2,4]\n",
    "menor = float(\"inf\")\n",
    "for elemento in range(len(T)):\n",
    "    if T[elemento] < menor:\n",
    "        menor = T[elemento]\n",
    "print(menor)\n"
   ]
  },
  {
   "cell_type": "code",
   "execution_count": null,
   "metadata": {},
   "outputs": [],
   "source": [
    "T=[]\n",
    "for i in range(10):\n",
    "    valor = int(input(f'digite um numero'))\n",
    "    T.append(valor)\n",
    "maior = float(\"-inf\")\n",
    "\n",
    "for elemento in range(len(T)):\n",
    "    if T[elemento] > maior:\n",
    "        maior = T[elemento]\n",
    "        indice=elemento\n",
    "print(T)\n",
    "\n",
    "print(maior)\n",
    "print(indice)"
   ]
  },
  {
   "cell_type": "code",
   "execution_count": null,
   "metadata": {},
   "outputs": [],
   "source": [
    "T=[]\n",
    "for i in range(10):\n",
    "    valor = int(input(f'digite um numero'))\n",
    "    T.append(valor)\n",
    "maior = max(T)\n",
    "indice= lista.index(maior)\n",
    "\n",
    "print(T)\n",
    "print(maior)\n",
    "print(indice)"
   ]
  },
  {
   "cell_type": "code",
   "execution_count": null,
   "metadata": {},
   "outputs": [],
   "source": [
    "T=[]\n",
    "for i in range(10):\n",
    "    valor = int(input(f'digite um numero'))\n",
    "    T.append(valor)\n",
    "\n",
    "\n",
    "ep=0\n",
    "indice=0\n",
    "\n",
    "for elemento in range(len(T)):\n",
    "    if (T[elemento] % 2 )==0:\n",
    "        ep += T[elemento]\n",
    "    if (elemento % 2 )==0:\n",
    "        indice += T[elemento]\n",
    "\n",
    "print(T)\n",
    "print('soma elementos pares: ',ep)\n",
    "print('soma elementos indice pares: ', indice)"
   ]
  },
  {
   "cell_type": "code",
   "execution_count": 34,
   "metadata": {},
   "outputs": [
    {
     "name": "stdout",
     "output_type": "stream",
     "text": [
      "[1, 2, 3, 4, 5]\n",
      "5\n",
      "4\n",
      "3\n",
      "2\n",
      "1\n"
     ]
    }
   ],
   "source": [
    "# exercicio 5\n",
    "n=int(input('digite a qtde de numeros: '))\n",
    "t=[]\n",
    "i=n\n",
    "for _ in range(n):\n",
    "    valor = int(input(f'digite um numero'))\n",
    "    t.append(valor)\n",
    "\n",
    "print(t)\n",
    "\n",
    "for _ in range(n):\n",
    "    i=i-1\n",
    "    print(t[i])\n",
    "\n"
   ]
  },
  {
   "cell_type": "code",
   "execution_count": 35,
   "metadata": {},
   "outputs": [
    {
     "name": "stdout",
     "output_type": "stream",
     "text": [
      "[5, 2, 1, 6, 2, 9, 4, 3, 5, 2]\n",
      "6\n",
      "9\n"
     ]
    }
   ],
   "source": [
    "# exercicio 6\n",
    "t=[]\n",
    "for _ in range(10):\n",
    "    valor = int(input(f'digite um numero'))\n",
    "    t.append(valor)\n",
    "\n",
    "print(t)\n",
    "\n",
    "for elemento in range(2,len(t)):\n",
    "    if t[elemento] > t[(elemento-1)]+ t[(elemento-2)]:\n",
    "        print(t[elemento])\n",
    "    \n"
   ]
  },
  {
   "cell_type": "code",
   "execution_count": 38,
   "metadata": {},
   "outputs": [
    {
     "name": "stdout",
     "output_type": "stream",
     "text": [
      "5\n",
      "-10\n",
      "-2.0\n"
     ]
    }
   ],
   "source": [
    "# exercicio 7\n",
    "T=[]\n",
    "for i in range(8):\n",
    "    valor = int(input(f'digite um numero'))\n",
    "    T.append(valor)\n",
    "maior = float(\"-inf\")\n",
    "media=0\n",
    "for elemento in range(len(T)):\n",
    "    media += T[elemento] / 8\n",
    "    if T[elemento] > maior:\n",
    "        maior = T[elemento]\n",
    "        indice=elemento\n",
    "    if T[elemento] < menor:\n",
    "        menor = T[elemento]\n",
    "print(maior)\n",
    "print(menor)\n",
    "print(media)"
   ]
  },
  {
   "cell_type": "code",
   "execution_count": 49,
   "metadata": {},
   "outputs": [
    {
     "name": "stdout",
     "output_type": "stream",
     "text": [
      "first\n",
      "second\n",
      "third\n",
      "\n"
     ]
    }
   ],
   "source": [
    "# exercicio 8\n",
    "t=[]\n",
    "palavra = 1\n",
    "while palavra != '':\n",
    "    palavra = str(input(f'digite uma palavra'))\n",
    "    if palavra not in t:\n",
    "        t.append(palavra)\n",
    "\n",
    "for elemento in range(len(t)):\n",
    "    print(t[elemento])"
   ]
  }
 ],
 "metadata": {
  "kernelspec": {
   "display_name": "base",
   "language": "python",
   "name": "python3"
  },
  "language_info": {
   "codemirror_mode": {
    "name": "ipython",
    "version": 3
   },
   "file_extension": ".py",
   "mimetype": "text/x-python",
   "name": "python",
   "nbconvert_exporter": "python",
   "pygments_lexer": "ipython3",
   "version": "3.12.7"
  }
 },
 "nbformat": 4,
 "nbformat_minor": 2
}
