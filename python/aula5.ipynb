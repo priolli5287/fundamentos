{
 "cells": [
  {
   "cell_type": "code",
   "execution_count": null,
   "metadata": {},
   "outputs": [],
   "source": [
    "ultimo= int(input('digite o ultimo deigito da contagem'))\n",
    "x = 1\n",
    "while x <= ultimo:\n",
    "    print(x)\n",
    "    x = x + 1\n"
   ]
  },
  {
   "cell_type": "code",
   "execution_count": null,
   "metadata": {},
   "outputs": [],
   "source": [
    "ultimo= int(input('digite o ultimo deigito da contagem: '))\n",
    "x = 0\n",
    "while x <= ultimo:\n",
    "    if x % 2 == 0:\n",
    "        print(x)\n",
    "    x = x + 1\n"
   ]
  },
  {
   "cell_type": "code",
   "execution_count": null,
   "metadata": {},
   "outputs": [],
   "source": [
    "ultimo= int(input('digite o ultimo deigito da contagem: '))\n",
    "x = 0\n",
    "while True:\n",
    "    if x % 2 == 0:\n",
    "        print(x)\n",
    "    x = x + 1"
   ]
  },
  {
   "cell_type": "code",
   "execution_count": null,
   "metadata": {},
   "outputs": [],
   "source": [
    "somatoria = 0\n",
    "\n",
    "while True:\n",
    "    entrada = int (input (\"Digite um numero a somar ou 0 pra sair: \") )\n",
    "    if entrada == 0:\n",
    "        break\n",
    "    else :\n",
    "      somatoria = somatoria + entrada\n",
    "\n",
    "print (\"Somatoria: \", somatoria)"
   ]
  },
  {
   "cell_type": "code",
   "execution_count": null,
   "metadata": {},
   "outputs": [],
   "source": [
    "somatoria = 0\n",
    "\n",
    "for x in range(0,100):\n",
    "    somatoria = somatoria + x\n",
    "    print(f'{x} - somatoreia: {somatoria}')\n",
    "print(somatoria)"
   ]
  },
  {
   "cell_type": "code",
   "execution_count": null,
   "metadata": {},
   "outputs": [],
   "source": [
    "ultimo= int(input('digite o ultimo deigito da contagem: '))\n",
    "x = 1\n",
    "while x <= ultimo:\n",
    "    if x % 2 == 0:\n",
    "        print(x-1)\n",
    "    x = x + 1"
   ]
  },
  {
   "cell_type": "code",
   "execution_count": null,
   "metadata": {},
   "outputs": [],
   "source": [
    "for x in range(0,51):\n",
    "    print(x)\n",
    "for x in range(50,101,2):\n",
    "    print(x)"
   ]
  },
  {
   "cell_type": "code",
   "execution_count": null,
   "metadata": {},
   "outputs": [],
   "source": [
    "n=int(input(f'digite  numero:'))\n",
    "x=1\n",
    "while x <= 10:\n",
    "    print(f'{n:02d} * {x:02d} = {n * x}')\n",
    "    x=x+1"
   ]
  },
  {
   "cell_type": "code",
   "execution_count": null,
   "metadata": {},
   "outputs": [],
   "source": [
    "maior=0\n",
    "x=1\n",
    "for x in range (6):\n",
    "    n=int(input('digite  numero:'))\n",
    "    x = x + 1\n",
    "    if n > maior:\n",
    "        maior= n\n",
    "\n",
    "print(f'O maior numero é: {maior}')\n",
    "\n"
   ]
  },
  {
   "cell_type": "code",
   "execution_count": null,
   "metadata": {},
   "outputs": [],
   "source": [
    "\n",
    "\n",
    "while True:\n",
    "    n= int(input('digite um numero de 0 a 10: '))\n",
    "    if n>=0 and n<=10:\n",
    "        print('numero valido')\n",
    "        break\n",
    "    else:\n",
    "        print('digite um numero valido')"
   ]
  },
  {
   "cell_type": "code",
   "execution_count": null,
   "metadata": {},
   "outputs": [],
   "source": [
    "somatoria=0\n",
    "quantidade=0\n",
    "while True:\n",
    "     entrada = int(input(\"Digite um numero a somar ou 0 pra sair: \"))\n",
    "     quantidade=quantidade+1\n",
    "     if entrada == 0:\n",
    "          break\n",
    "     else:\n",
    "          somatoria=somatoria + entrada\n",
    "print(f'somatoria: {somatoria}')\n",
    "print(f'media aritimetica: {somatoria / quantidade}')\n",
    "print(f'quantidade dos numeros digitados é: {quantidade}')"
   ]
  },
  {
   "cell_type": "code",
   "execution_count": null,
   "metadata": {},
   "outputs": [],
   "source": [
    "while True:\n",
    "    n=  int(input('digite um numero inteiro e positivo: '))\n",
    "    if n >0:\n",
    "        break\n",
    "\n",
    "soma=0\n",
    "for x in range(0,n+1):\n",
    "    soma=soma+1/x+1\n",
    "    print(f'1/{x} = {1/x:2f} - somatoria = {soma}')"
   ]
  },
  {
   "cell_type": "code",
   "execution_count": 10,
   "metadata": {},
   "outputs": [
    {
     "name": "stdout",
     "output_type": "stream",
     "text": [
      "somatoria: 22\n",
      "media aritimetica: 2.0\n",
      "quantidade dos numeros digitados é: 11\n"
     ]
    }
   ],
   "source": [
    "aprovados=0\n",
    "soma=0\n",
    "for x in range (8):\n",
    "    while True:\n",
    "        nota = float(input(f'digite a nota {x + 1}: '))\n",
    "        if nota >=0 and nota <=10:\n",
    "            break\n",
    "        print('nota invalida')\n",
    "\n",
    "    if nota >=6:\n",
    "        aprovados=aprovados+1\n",
    "    soma=soma+nota\n",
    "print(f'somatoria: {somatoria}')\n",
    "print(f'media aritimetica: {soma / x}')\n"
   ]
  }
 ],
 "metadata": {
  "kernelspec": {
   "display_name": "base",
   "language": "python",
   "name": "python3"
  },
  "language_info": {
   "codemirror_mode": {
    "name": "ipython",
    "version": 3
   },
   "file_extension": ".py",
   "mimetype": "text/x-python",
   "name": "python",
   "nbconvert_exporter": "python",
   "pygments_lexer": "ipython3",
   "version": "3.12.7"
  }
 },
 "nbformat": 4,
 "nbformat_minor": 2
}
