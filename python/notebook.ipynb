{
 "cells": [
  {
   "cell_type": "code",
   "execution_count": 12,
   "metadata": {},
   "outputs": [
    {
     "name": "stdout",
     "output_type": "stream",
     "text": [
      "Triangulo equilatero\n"
     ]
    }
   ],
   "source": [
    "a = int(input(\"Lado a: \"))\n",
    "b = int(input(\"Lado b: \"))\n",
    "c = int(input(\"Lado c: \"))\n",
    "\n",
    "if (a < b + c) and (b < a + c) and (c < a + b):\n",
    "    if (a == b) and ( b == c):\n",
    "        print(\"Triangulo equilatero\")\n",
    "    elif (a == b) or (a == c) or (b == c):\n",
    "            print(\"Triangulo isosceles\")\n",
    "    else:\n",
    "            print(\"Triangulo escaleno\")\n",
    "else:\n",
    "    print(\" N é um Triangulo\")"
   ]
  },
  {
   "cell_type": "code",
   "execution_count": 13,
   "metadata": {},
   "outputs": [
    {
     "data": {
      "text/plain": [
       "2"
      ]
     },
     "execution_count": 13,
     "metadata": {},
     "output_type": "execute_result"
    }
   ],
   "source": [
    "b"
   ]
  },
  {
   "cell_type": "code",
   "execution_count": 20,
   "metadata": {},
   "outputs": [],
   "source": [
    "x = int(input('codigo do produto: '))\n",
    "\n",
    "if (x > 0) and (x <= 30):\n",
    "    if (x == 1):\n",
    "        print(\"produto do sul\")\n",
    "    elif (x == 2):\n",
    "        print(\"produto do norte\")\n",
    "    elif (x == 3):\n",
    "        print(\"produto do leste\")\n",
    "    elif (x == 4):\n",
    "        print(\"produto do oeste\")\n",
    "    elif (x == 5) and (x ==6):\n",
    "        print(\"produto do nordeste\")\n",
    "    elif (x >= 7) and (x <=9):\n",
    "        print(\"produto do sudeste\")\n",
    "    elif (x >= 10) and (x <=20):\n",
    "        print(\"produto do centro-oeste\")\n",
    "    elif (x >= 25) and (x <=30):\n",
    "        print(\"produto do nordeste\")\n",
    "else:\n",
    "    print('produto importado')"
   ]
  },
  {
   "cell_type": "code",
   "execution_count": null,
   "metadata": {},
   "outputs": [],
   "source": [
    "l = int(input(\"escreva um numero qualquer: \"))\n",
    "m = int(input(\"escreva outro numero qualquer: \"))\n",
    "p = int(input(\"escreva outro numero qualquer: \"))\n",
    "\n",
    "if l>m and l>p:\n",
    "    if m>p:\n",
    "        print(f'ordem decrescente: {l}, {m}, {p}')\n",
    "    else:\n",
    "        print(f'ordem decrescente: {l}, {p}, {m}')\n",
    "if m>l and m>p:\n",
    "    if l>p:\n",
    "        print(f'ordem decrescente: {m}, {l}, {p}')\n",
    "    else:\n",
    "        print(f'ordem decrescente: {m}, {p}, {l}')\n",
    "if p>l and p>m:\n",
    "    if l>m:\n",
    "        print(f'ordem decrescente: {p}, {l}, {m}')\n",
    "    else:\n",
    "        print(f'ordem decrescente: {p}, {m}, {l}')\n",
    "        "
   ]
  },
  {
   "cell_type": "code",
   "execution_count": 25,
   "metadata": {},
   "outputs": [
    {
     "name": "stdout",
     "output_type": "stream",
     "text": [
      "seu peso ideal é 70.68\n"
     ]
    }
   ],
   "source": [
    "h = float(input(\"escreva sua altura: \"))\n",
    "peso = int(input(\"escreva seu peso: \"))\n",
    "sexo = input(\"escreva se é M ou F: \")\n",
    "\n",
    "if sexo == 'M'or sexo =='m':\n",
    "   peso_ideal = (72.7 * h)-58\n",
    "if sexo == 'F' or sexo == 'f':\n",
    "   peso_ideal = (62.1 * h)-44,7\n",
    "\n",
    "print(f'seu peso ideal é {peso_ideal:.2f}')"
   ]
  },
  {
   "cell_type": "code",
   "execution_count": 29,
   "metadata": {},
   "outputs": [
    {
     "name": "stdout",
     "output_type": "stream",
     "text": [
      "voce não pode votar nem dirigir\n"
     ]
    }
   ],
   "source": [
    "ano = int(input('digite o ano de nascimento: '))\n",
    "idade = 2025 - ano\n",
    "\n",
    "if idade < 16:\n",
    "    print('voce não pode votar nem dirigir')\n",
    "elif idade >= 16 and idade < 18:\n",
    "    print('voce pode votar mas não dirigir')\n",
    "elif idade >= 18:\n",
    "    print('voce pode votar e dirigir')"
   ]
  },
  {
   "cell_type": "code",
   "execution_count": 32,
   "metadata": {},
   "outputs": [
    {
     "name": "stdout",
     "output_type": "stream",
     "text": [
      "Múltiplo de 5 detectado!\n"
     ]
    }
   ],
   "source": [
    "numero = int(input('Digite um numero: '))\n",
    "if numero%5 == 0:\n",
    "    print('Múltiplo de 5 detectado!')"
   ]
  },
  {
   "cell_type": "code",
   "execution_count": null,
   "metadata": {},
   "outputs": [],
   "source": [
    "2-) Escreva um algoritmo que peça para o usuário digitar sua altura em centímetros. Se a\n",
    "altura for igual ou superior a 150 cm, exiba a mensagem \"Você tem altura suficiente\n",
    "para entrar no brinquedo.\". Caso contrário, exiba a mensagem \"Desculpe, você não tem\n",
    "altura suficiente para entrar no brinquedo.\". Use desvio condicional completo.\n",
    "\n",
    "altura"
   ]
  }
 ],
 "metadata": {
  "kernelspec": {
   "display_name": "base",
   "language": "python",
   "name": "python3"
  },
  "language_info": {
   "codemirror_mode": {
    "name": "ipython",
    "version": 3
   },
   "file_extension": ".py",
   "mimetype": "text/x-python",
   "name": "python",
   "nbconvert_exporter": "python",
   "pygments_lexer": "ipython3",
   "version": "3.12.7"
  }
 },
 "nbformat": 4,
 "nbformat_minor": 2
}
