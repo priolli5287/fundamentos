{
 "cells": [
  {
   "cell_type": "code",
   "execution_count": null,
   "metadata": {},
   "outputs": [],
   "source": [
    "kg = float(input('digite o peso'))\n",
    "print(kg)"
   ]
  },
  {
   "cell_type": "code",
   "execution_count": 11,
   "metadata": {},
   "outputs": [
    {
     "name": "stdout",
     "output_type": "stream",
     "text": [
      "Matriz resultante:\n",
      "1 2 3 PIM \n",
      "5 6 7 PIM \n",
      "9 10 11 PIM \n",
      "13 14 15 PIM \n"
     ]
    }
   ],
   "source": [
    "\n",
    "\n",
    "lista = []\n",
    "for i in range(4):\n",
    "    linha = []\n",
    "    for j in range(4):\n",
    "        numero = ((4*i) + j+1)\n",
    "        if (numero % 4) != 0 :\n",
    "            linha.append(numero)\n",
    "        else:\n",
    "            linha.append('PIM')\n",
    "    lista.append(linha)\n",
    "        \n",
    "maior = float(\"-inf\")\n",
    "\n",
    "for linha in range(len(M)):\n",
    "    for coluna in range(len(M[linha])):\n",
    "        if lista[linha][coluna] > maior:\n",
    "            maior = lista[linha][coluna]\n",
    "\n",
    "print('Matriz resultante:')\n",
    "for num_linhas in range(4):\n",
    "    for num_colunas in range(4):\n",
    "            if (numero % 4) != 0 :\n",
    "                print(\"%4d\" % lista[num_linhas][num_colunas], end=\" \")\n",
    "            else:\n",
    "                 print(lista[num_linhas][num_colunas], end=\" \")\n",
    "    print()"
   ]
  },
  {
   "cell_type": "code",
   "execution_count": 14,
   "metadata": {},
   "outputs": [
    {
     "name": "stdout",
     "output_type": "stream",
     "text": [
      "   1    2    4    8   16 \n",
      "   2    4    8   16   32 \n",
      "   4    8   16   32   64 \n",
      "   8   16   32   64  128 \n",
      "  16   32   64  128  256 \n"
     ]
    }
   ],
   "source": [
    "n = int(input('Digite a ordem da matriz: '))\n",
    "M = []\n",
    "for i in range(n):\n",
    "    linha = []\n",
    "    for j in range(n):\n",
    "        linha.append(2**(i+j))\n",
    "    M.append(linha)\n",
    "\n",
    "for num_linhas in range(n):\n",
    "    for num_colunas in range(n):\n",
    "        print(\"%4d\" % M[num_linhas][num_colunas], end=\" \")\n",
    "    print()"
   ]
  }
 ],
 "metadata": {
  "kernelspec": {
   "display_name": "base",
   "language": "python",
   "name": "python3"
  },
  "language_info": {
   "codemirror_mode": {
    "name": "ipython",
    "version": 3
   },
   "file_extension": ".py",
   "mimetype": "text/x-python",
   "name": "python",
   "nbconvert_exporter": "python",
   "pygments_lexer": "ipython3",
   "version": "3.12.7"
  }
 },
 "nbformat": 4,
 "nbformat_minor": 2
}
