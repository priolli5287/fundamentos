{
 "cells": [
  {
   "cell_type": "code",
   "execution_count": null,
   "metadata": {},
   "outputs": [],
   "source": [
    "for i in range(10):\n",
    "    print(f'linha:  {i}')\n",
    "    print('colunas: ', end=' ')\n",
    "    for j in range(10):\n",
    "        print(j, end=' ')\n",
    "    print()"
   ]
  },
  {
   "cell_type": "code",
   "execution_count": null,
   "metadata": {},
   "outputs": [],
   "source": [
    "for i in range(10):\n",
    "    for j in range(10):\n",
    "        print(j, end=' ')\n",
    "    print()"
   ]
  },
  {
   "cell_type": "code",
   "execution_count": null,
   "metadata": {},
   "outputs": [],
   "source": [
    "numero = int(input('digite a quantidade de numeros a serem testados'))\n",
    "\n",
    "primos = 0\n",
    "for i in range(numero):\n",
    "    n = int(input(f'digite o numero {i+1}'))\n",
    "    if n > 1:\n",
    "        eh_primo = True\n",
    "        for j in range(2,n):\n",
    "            if n% j == 0:\n",
    "                eh_primo = False\n",
    "        \n",
    "        if eh_primo == True:\n",
    "            print('é primo')\n",
    "            primos = primos + 1\n",
    "        else:\n",
    "            print('não é primo')\n",
    "\n",
    "\n",
    "print(f'você digitou {primos} numeros primos de {numero} numeros')"
   ]
  },
  {
   "cell_type": "code",
   "execution_count": null,
   "metadata": {},
   "outputs": [],
   "source": [
    "L= int(input('digite a quantidade de linhas'))\n",
    "C=int(input('digite a quantidade de colunas'))\n",
    "\n",
    "for i in range(L):\n",
    "    for j in range(C):\n",
    "        if i==0 or j==0 or i == L -1 or j==C-1:\n",
    "            print('x',end=' ')\n",
    "        else:\n",
    "            print(' ',end=' ')\n",
    "    print()"
   ]
  },
  {
   "cell_type": "code",
   "execution_count": null,
   "metadata": {},
   "outputs": [],
   "source": [
    "tab= int(input('digite a quantidade de linhas'))\n",
    "\n",
    "for i in range(tab):\n",
    "    for j in range(tab):\n",
    "        if (i+j)%2==0:\n",
    "            print('x',end=' ')\n",
    "        else:\n",
    "            print('0',end=' ')\n",
    "    print()"
   ]
  },
  {
   "cell_type": "code",
   "execution_count": 44,
   "metadata": {},
   "outputs": [
    {
     "name": "stdout",
     "output_type": "stream",
     "text": [
      "0\n",
      "1\n",
      "2\n"
     ]
    }
   ],
   "source": [
    "i = 0\n",
    "while i < 5:\n",
    "    print(i)\n",
    "    i += 1\n",
    "    if i == 3:\n",
    "        break\n",
    "else:\n",
    "    print(0)"
   ]
  },
  {
   "cell_type": "code",
   "execution_count": null,
   "metadata": {},
   "outputs": [],
   "source": [
    "tab= int(input('digite a quantidade de linhas'))\n",
    "\n",
    "for i in range(tab):\n",
    "    for j in range(tab):\n",
    "        if i>j:\n",
    "            print('$',end=' ')\n",
    "        else:\n",
    "            print('@',end=' ')\n",
    "    print()"
   ]
  },
  {
   "cell_type": "code",
   "execution_count": null,
   "metadata": {},
   "outputs": [],
   "source": [
    "tab= int(input('digite a quantidade de linhas'))\n",
    "\n",
    "for i in range(tab):\n",
    "    for j in range(tab):\n",
    "        if i%2==0:\n",
    "            if j%2==0:\n",
    "                print('$',end=' ')\n",
    "            else:\n",
    "                print('&', end=' ')\n",
    "        elif i%2==1:\n",
    "            if j%2==1:\n",
    "                print('#',end=' ')\n",
    "            else:\n",
    "                print('%',end=' ')\n",
    "\n",
    "            \n",
    "        else:\n",
    "            print('0',end=' ')\n",
    "    print()"
   ]
  },
  {
   "cell_type": "code",
   "execution_count": null,
   "metadata": {},
   "outputs": [],
   "source": [
    "n=int(input('digite um numero: '))\n",
    "digitos= 0\n",
    "numero=n\n",
    "while n>0:\n",
    "    n=n//10\n",
    "    digitos=digitos+1\n",
    "    print(n)\n",
    "\n",
    "print(f'o numero {numero} tem {digitos} digitos')"
   ]
  },
  {
   "cell_type": "code",
   "execution_count": 37,
   "metadata": {},
   "outputs": [
    {
     "name": "stdout",
     "output_type": "stream",
     "text": [
      "1\n",
      "1\n",
      "2\n",
      "3\n",
      "5\n",
      "8\n",
      "13\n",
      "21\n",
      "34\n",
      "55\n",
      "89\n",
      "144\n",
      "falso\n"
     ]
    }
   ],
   "source": [
    "n=int(input('digite um numero: '))\n",
    "a=0\n",
    "b=1\n",
    "\n",
    "\n",
    "while a<n:\n",
    "    temp=a+b\n",
    "    a=b\n",
    "    b=temp\n",
    "    print(a)\n",
    "if a==n:\n",
    "    print('verdadeiro')\n",
    "else:\n",
    "    print('falso')"
   ]
  },
  {
   "cell_type": "code",
   "execution_count": 41,
   "metadata": {},
   "outputs": [
    {
     "name": "stdout",
     "output_type": "stream",
     "text": [
      "desconto total: 500.024\n",
      "valor final da compra com desconto: 4500.22\n",
      "cada parcela será de: 2250.0\n"
     ]
    }
   ],
   "source": [
    "valor=float(input('Digite o valor da compra: '))\n",
    "parcelas=int(input('Digite a quantidade de parcelas: '))\n",
    "if valor>5000:\n",
    "    if parcelas==0:\n",
    "        desconto=valor*0.15\n",
    "        valor=valor-desconto\n",
    "        print(f'desconto total: {desconto}')\n",
    "    elif parcelas==2 or parcelas==3:\n",
    "        desconto=valor*0.1\n",
    "        valor=valor-desconto\n",
    "        parcelas = valor// parcelas\n",
    "        print(f'desconto total: {desconto}')\n",
    "        print(f'valor final da compra com desconto: {valor:.2f}')\n",
    "        print(f'cada parcela será de: {parcelas}')"
   ]
  }
 ],
 "metadata": {
  "kernelspec": {
   "display_name": "base",
   "language": "python",
   "name": "python3"
  },
  "language_info": {
   "codemirror_mode": {
    "name": "ipython",
    "version": 3
   },
   "file_extension": ".py",
   "mimetype": "text/x-python",
   "name": "python",
   "nbconvert_exporter": "python",
   "pygments_lexer": "ipython3",
   "version": "3.12.7"
  }
 },
 "nbformat": 4,
 "nbformat_minor": 2
}
