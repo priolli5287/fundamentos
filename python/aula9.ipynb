{
 "cells": [
  {
   "cell_type": "code",
   "execution_count": null,
   "metadata": {},
   "outputs": [],
   "source": [
    "intervalos=[0]*4\n",
    "while True:\n",
    "    num=int(input('digite um numero de 0 a 100 e para sair digite um numero negativo: '))\n",
    "    if num >= 0 and num<=25:\n",
    "        intervalos[0] += 1\n",
    "    elif num >= 26 and num<=50:\n",
    "        intervalos[1]=intervalos[1]+1\n",
    "    elif num >= 51 and num<=75:\n",
    "        intervalos[2]=intervalos[2]+1\n",
    "    elif num >= 76 and num<=100:\n",
    "        intervalos[3]=intervalos[3]+1\n",
    "    elif num<0:\n",
    "        break\n",
    "    else:\n",
    "        print('numero fora do intervalo permitido (0-100). tente novamente')\n",
    "\n",
    "    print(intervalos[0])\n",
    "    print(intervalos[1])\n",
    "    print(intervalos[2])\n",
    "    print(intervalos[3])\n"
   ]
  },
  {
   "cell_type": "code",
   "execution_count": 2,
   "metadata": {},
   "outputs": [
    {
     "ename": "NameError",
     "evalue": "name 'intervalos' is not defined",
     "output_type": "error",
     "traceback": [
      "\u001b[1;31m---------------------------------------------------------------------------\u001b[0m",
      "\u001b[1;31mNameError\u001b[0m                                 Traceback (most recent call last)",
      "Cell \u001b[1;32mIn[2], line 7\u001b[0m\n\u001b[0;32m      5\u001b[0m     \u001b[38;5;28;01mbreak\u001b[39;00m\n\u001b[0;32m      6\u001b[0m \u001b[38;5;28;01melif\u001b[39;00m num \u001b[38;5;241m==\u001b[39m\u001b[38;5;241m1\u001b[39m:\n\u001b[1;32m----> 7\u001b[0m     intervalos[\u001b[38;5;241m0\u001b[39m] \u001b[38;5;241m+\u001b[39m\u001b[38;5;241m=\u001b[39m \u001b[38;5;241m1\u001b[39m\n\u001b[0;32m      8\u001b[0m \u001b[38;5;28;01melif\u001b[39;00m num \u001b[38;5;241m==\u001b[39m\u001b[38;5;241m2\u001b[39m:\n\u001b[0;32m      9\u001b[0m     intervalos[\u001b[38;5;241m1\u001b[39m]\u001b[38;5;241m+\u001b[39m\u001b[38;5;241m=\u001b[39m \u001b[38;5;241m1\u001b[39m\n",
      "\u001b[1;31mNameError\u001b[0m: name 'intervalos' is not defined"
     ]
    }
   ],
   "source": [
    "votos=[0]*6\n",
    "while True:\n",
    "    num=int(input('digite para qual sistema operacional vai seu voto: '))\n",
    "    if num == 0:\n",
    "        break\n",
    "    elif num ==1:\n",
    "        intervalos[0] += 1\n",
    "    elif num ==2:\n",
    "        intervalos[1]+= 1\n",
    "    elif num ==3:\n",
    "        intervalos[2]+= 1\n",
    "    elif num ==4:\n",
    "        intervalos[3]+= 1\n",
    "    elif num ==5:\n",
    "        intervalos[4]+= 1\n",
    "    elif num ==6:\n",
    "        intervalos[5]+= 1\n",
    "    \n",
    "    else:\n",
    "        print('não exite essa opção tente outra. tente outra')\n",
    "    \n",
    "    print(f'{'sistema operecional':<25}{'votos':<5}{'%':>8}' )\n",
    "    print(f'{'---------------':<25}{'--------':<5}{'---':>8}')\n",
    "    print(f'{'windows server'}  {votos[0]}  {votos[0]/sum(votos) *100:>8.2f}%')\n",
    "    print(f'{'unix':<25} {votos[1]}  {votos[0]/sum(votos)}%')\n",
    "    print(f'{'linux': }{votos[2]}  {votos[0]/sum(votos)}%')\n",
    "    print(f'{'netware': } {votos[3]}  {votos[0]/sum(votos)}%')\n",
    "    print(f'{'mac os ':} {votos[4]}  {votos[0]/sum(votos)}%')\n",
    "    print(f'{'outros':25}  {votos[5]} {votos[0]/sum(votos)}%')\n",
    "    print(sum(votos))\n"
   ]
  },
  {
   "cell_type": "code",
   "execution_count": null,
   "metadata": {},
   "outputs": [],
   "source": [
    "cod =int(input('Digite o código do produto:'))\n",
    "quant =int(input('Digite a quantidade do produto:'))\n",
    "preço = [6,6.5,5,3,2]\n",
    "total=preço[cod-1]*quant\n",
    "print(total)"
   ]
  },
  {
   "cell_type": "code",
   "execution_count": 8,
   "metadata": {},
   "outputs": [
    {
     "name": "stdout",
     "output_type": "stream",
     "text": [
      "3\n"
     ]
    }
   ],
   "source": [
    "a = [1, 5, 7, 9, 2, 1]\n",
    "b = a[0]\n",
    "X = 0\n",
    "for x in range(1, len(a)):\n",
    "    if a[x] > b:\n",
    "        b = a[x]\n",
    "        b = x\n",
    "print(b)"
   ]
  }
 ],
 "metadata": {
  "kernelspec": {
   "display_name": "base",
   "language": "python",
   "name": "python3"
  },
  "language_info": {
   "codemirror_mode": {
    "name": "ipython",
    "version": 3
   },
   "file_extension": ".py",
   "mimetype": "text/x-python",
   "name": "python",
   "nbconvert_exporter": "python",
   "pygments_lexer": "ipython3",
   "version": "3.12.7"
  }
 },
 "nbformat": 4,
 "nbformat_minor": 2
}
