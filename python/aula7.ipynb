{
 "cells": [
  {
   "cell_type": "code",
   "execution_count": null,
   "metadata": {},
   "outputs": [],
   "source": [
    "def media(n1, n2):\n",
    "    resultado = (n1 + n2) / 2\n",
    "    return resultado\n",
    "\n",
    "x= int(input('digite um numero: '))\n",
    "y= int(input('digite outro numero: '))\n",
    "\n",
    "print(media(x, y))\n"
   ]
  },
  {
   "cell_type": "code",
   "execution_count": null,
   "metadata": {},
   "outputs": [],
   "source": [
    "def maior(n1, n2):\n",
    "    if n1 > n2:\n",
    "        return n1 \n",
    "    else:\n",
    "        return n2\n",
    "x= int(input('digite um numero: '))\n",
    "y= int(input('digite outro numero: '))\n",
    "\n",
    "print(maior(x, y))\n",
    "\n"
   ]
  },
  {
   "cell_type": "code",
   "execution_count": null,
   "metadata": {},
   "outputs": [],
   "source": [
    "def multiplo(x, y):\n",
    "    if x % y ==0:\n",
    "        return True \n",
    "    else:\n",
    "        return False\n",
    "    \n",
    "x= int(input('digite um numero: '))\n",
    "y= int(input('digite outro numero: '))\n",
    "\n",
    "print(multiplo(x, y))\n",
    "\n"
   ]
  },
  {
   "cell_type": "code",
   "execution_count": null,
   "metadata": {},
   "outputs": [],
   "source": [
    "def area(b,h):\n",
    "    result=(b*h)/2\n",
    "    return result\n",
    "\n",
    "x= int(input('digite um numero: '))\n",
    "y= int(input('digite outro numero: '))\n",
    "\n",
    "print(area(x, y))\n"
   ]
  },
  {
   "cell_type": "code",
   "execution_count": null,
   "metadata": {},
   "outputs": [],
   "source": [
    "from math import*\n",
    "\n",
    "def calculo(n1,n2,n3):\n",
    "    resultado= sqrt(n1)+sqrt(n2)+sqrt(n3)+(n1+n2)/2+(n2+n3)/2+(n1+n3)/2\n",
    "    return resultado\n",
    "x= int(input('digite um numero: '))\n",
    "y= int(input('digite outro numero: '))\n",
    "z= int(input('digite outro numero: '))\n",
    "\n",
    "print(f'o resultado do calculo é: {calculo(x,y,z):.2f}')\n"
   ]
  },
  {
   "cell_type": "code",
   "execution_count": null,
   "metadata": {},
   "outputs": [],
   "source": [
    "def sangue(x, y):\n",
    "    if x == 'M' :\n",
    "        if y >= 60:\n",
    "            return True\n",
    "        else:\n",
    "            return False\n",
    "\n",
    "    elif x == 'F':\n",
    "        if y>= 50:\n",
    "            return True\n",
    "        else:\n",
    "            return False\n",
    "\n",
    "sexo= str(input('digite se é M ou F: '))\n",
    "peso= int(input('digite outro numero: '))\n",
    "\n",
    "\n",
    "if sangue(sexo,peso) ==True:\n",
    "     print('esta apto a doar')\n",
    "else:\n",
    "    print('nao esta apto a doar')\n",
    "\n",
    "\n"
   ]
  },
  {
   "cell_type": "code",
   "execution_count": null,
   "metadata": {},
   "outputs": [],
   "source": [
    "def data(n1,n2,n3):\n",
    "    if (n3 % 100) == n1*n2:\n",
    "        return True\n",
    "    else:\n",
    "        return False\n",
    "\n",
    "     \n",
    "    \n",
    "\n",
    "dia= int(input('digite o dia: '))\n",
    "mes= int(input('digite o mes: '))\n",
    "ano= int(input('digite o ano: '))\n",
    "\n",
    "if data(dia,mes,ano) ==True:\n",
    "    print(f'data magica: {dia}/{mes}/{ano}')\n",
    "else:\n",
    "    print(f'nao e data magica: {dia}/{mes}/{ano}')"
   ]
  },
  {
   "cell_type": "code",
   "execution_count": null,
   "metadata": {},
   "outputs": [],
   "source": [
    "def data(n1,n2,n3):\n",
    "    if (n3 % 100) == n1*n2:\n",
    "        return True\n",
    "    else:\n",
    "        return False\n",
    "\n",
    "for ano in range(1901,2000):\n",
    "    for mes in range(1,13):\n",
    "        for dia in range(1,32):\n",
    "            if data(dia,mes,ano) == True:\n",
    "                print(f'data magica: {dia}/{mes}/{ano}')"
   ]
  },
  {
   "cell_type": "code",
   "execution_count": 56,
   "metadata": {},
   "outputs": [],
   "source": [
    "def maior(x, y):\n",
    "    if x > y:\n",
    "        return x \n",
    "    else:\n",
    "        return y\n",
    "\n",
    "\n",
    "maior = lambda x, y: x if x > y else y"
   ]
  },
  {
   "cell_type": "code",
   "execution_count": null,
   "metadata": {},
   "outputs": [],
   "source": [
    "def multiplo(x, y):\n",
    "    if x % y ==0:\n",
    "        return True \n",
    "    else:\n",
    "        return False\n",
    "    \n",
    "multiplo = lambda x, y: True if x%y == 0 else False"
   ]
  },
  {
   "cell_type": "code",
   "execution_count": null,
   "metadata": {},
   "outputs": [],
   "source": [
    "def area(x,y):\n",
    "    result=(x*y)/2\n",
    "    return result\n",
    "\n",
    "x= int(input('digite um numero: '))\n",
    "y= int(input('digite outro numero: '))\n",
    "\n",
    "area = lambda x,y: (x*y)/2"
   ]
  },
  {
   "cell_type": "code",
   "execution_count": 62,
   "metadata": {},
   "outputs": [
    {
     "name": "stdout",
     "output_type": "stream",
     "text": [
      "2 3 1\n"
     ]
    }
   ],
   "source": [
    "def max(a,b,c):\n",
    "    if a>b and a>c:\n",
    "        return a \n",
    "    elif b>a and b>c:\n",
    "        return b\n",
    "    elif c>a and c>b:\n",
    "        return c\n",
    "\n",
    "def med(a,b,c):\n",
    "    if a<b and a>c or a>b and a<c:\n",
    "        return a \n",
    "    elif b<a and b>c or b>a and b<c:\n",
    "        return b\n",
    "    elif c<a and c>b or c>a and c<b:\n",
    "        return c\n",
    "\n",
    "def min(a,b,c):\n",
    "    if a<b and a<c:\n",
    "        return a \n",
    "    elif b<a and b<c:\n",
    "        return b\n",
    "    elif c<a and c<b:\n",
    "        return c\n",
    "\n",
    "a= int(input('digite o valor de a: '))\n",
    "b= int(input('digite o valor de b: '))\n",
    "c= int(input('digite o valor de c: '))\n",
    "i= int(input('digite o valor de I: '))\n",
    "\n",
    "if i ==1:\n",
    "    print(min(a,b,c),med(a,b,c),max(a,b,c))\n",
    "elif i ==2:\n",
    "    print(max(a,b,c),med(a,b,c),min(a,b,c))\n",
    "elif i == 3:\n",
    "    print(med(a,b,c),max(a,b,c),min(a,b,c))\n"
   ]
  },
  {
   "cell_type": "code",
   "execution_count": 70,
   "metadata": {},
   "outputs": [
    {
     "name": "stdout",
     "output_type": "stream",
     "text": [
      "quociente e 4 e o resto e 2\n"
     ]
    }
   ],
   "source": [
    "def divisao(dividendo,divisor):\n",
    "    quociente = 0\n",
    "    while dividendo >= divisor:\n",
    "        dividendo = dividendo - divisor\n",
    "        quociente = quociente +1\n",
    "\n",
    "    print(f'quociente e {quociente} e o resto e {dividendo }')\n",
    "dividendo = int(input('digite o valor do dividendo: '))\n",
    "divisor = int(input('digite o valor do divisor: '))\n",
    "\n",
    "\n",
    "divisao(dividendo,divisor)"
   ]
  },
  {
   "cell_type": "code",
   "execution_count": 75,
   "metadata": {},
   "outputs": [
    {
     "name": "stdout",
     "output_type": "stream",
     "text": [
      "b = 2 e k = 1\n"
     ]
    }
   ],
   "source": [
    "def exponencial(n):\n",
    "    if n ==1:\n",
    "        print('b = 1 e k = 0')\n",
    "\n",
    "    b=2\n",
    "    while True:\n",
    "        k=1\n",
    "        while b ** k < n:\n",
    "            k = k + 1\n",
    "        if b ** k == n :\n",
    "            print(f'b = {b} e k = {k}')\n",
    "            return\n",
    "        else:\n",
    "            b = b + 1\n",
    "\n",
    "\n",
    "n = int(input('digite o valor de n: '))\n",
    "\n",
    "\n",
    "\n",
    "exponencial(n)"
   ]
  }
 ],
 "metadata": {
  "kernelspec": {
   "display_name": "base",
   "language": "python",
   "name": "python3"
  },
  "language_info": {
   "codemirror_mode": {
    "name": "ipython",
    "version": 3
   },
   "file_extension": ".py",
   "mimetype": "text/x-python",
   "name": "python",
   "nbconvert_exporter": "python",
   "pygments_lexer": "ipython3",
   "version": "3.12.7"
  }
 },
 "nbformat": 4,
 "nbformat_minor": 2
}
