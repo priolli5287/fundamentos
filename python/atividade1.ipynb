{
 "cells": [
  {
   "cell_type": "code",
   "execution_count": null,
   "metadata": {},
   "outputs": [],
   "source": [
    "numero = int(input('Digite um numero: '))\n",
    "if numero%5 == 0:\n",
    "    print('Múltiplo de 5 detectado!')"
   ]
  },
  {
   "cell_type": "code",
   "execution_count": 2,
   "metadata": {},
   "outputs": [
    {
     "name": "stdout",
     "output_type": "stream",
     "text": [
      "Desculpe, você não tem altura suficiente para entrar no brinquedo.\n"
     ]
    }
   ],
   "source": [
    "altura = int(input('digite a sua altura em cm: '))\n",
    "\n",
    "if altura >= 150:\n",
    "    print('Você tem altura suficiente para entrar no brinquedo.')\n",
    "else:\n",
    "    print('Desculpe, você não tem altura suficiente para entrar no brinquedo.')"
   ]
  },
  {
   "cell_type": "code",
   "execution_count": 11,
   "metadata": {},
   "outputs": [
    {
     "name": "stdout",
     "output_type": "stream",
     "text": [
      "Entrando na área administrativa...\n"
     ]
    }
   ],
   "source": [
    "\n",
    "senha = float(input('digite a senha: '))\n",
    "\n",
    "if senha == 1234:\n",
    "    acesso = input('deseja acessar a área administrativa?')\n",
    "    if acesso =='S':\n",
    "        print('Entrando na área administrativa...')\n",
    "    elif acesso == 'N':\n",
    "        print('Você está na área de usuário comum.')\n",
    "else:\n",
    "    print('\"Senha incorreta! Acesso negado.')\n",
    "\n"
   ]
  }
 ],
 "metadata": {
  "kernelspec": {
   "display_name": "base",
   "language": "python",
   "name": "python3"
  },
  "language_info": {
   "codemirror_mode": {
    "name": "ipython",
    "version": 3
   },
   "file_extension": ".py",
   "mimetype": "text/x-python",
   "name": "python",
   "nbconvert_exporter": "python",
   "pygments_lexer": "ipython3",
   "version": "3.12.7"
  }
 },
 "nbformat": 4,
 "nbformat_minor": 2
}
