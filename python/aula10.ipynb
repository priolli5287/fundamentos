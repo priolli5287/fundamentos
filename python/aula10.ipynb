{
 "cells": [
  {
   "cell_type": "code",
   "execution_count": 1,
   "metadata": {},
   "outputs": [
    {
     "name": "stdout",
     "output_type": "stream",
     "text": [
      "[[5, 1, 2, 1, 6, 1, 7, 2, 3, 1], [1.3168064028145188, 3.0614774919537693, 9.083073887486083, 9.590582690540469, 4.210642577228747, 5.842984562523696, 3.6721598991070383, 6.2908185546747175, 7.865204873317349, 2.8343752990816764], ['a', 'b', 'c', 'd', 'e', 'f', 'g', 'h', 'i', 'j']]\n"
     ]
    }
   ],
   "source": [
    "from random import randint, random\n",
    "\n",
    "inteiros = [randint(0, 10) for _ in range(10)]\n",
    "reais = [random() * 10 for _ in range(10)]\n",
    "string = [\"a\", \"b\", \"c\", \"d\", \"e\", \"f\", \"g\", \"h\", \"i\", \"j\"]\n",
    "\n",
    "completa = []\n",
    "# completa=[inteiros, reais, string]\n",
    "\n",
    "completa.append(inteiros.copy())\n",
    "completa.append(reais[:])\n",
    "completa.append(string[:])\n",
    "\n",
    "print(completa)"
   ]
  },
  {
   "cell_type": "code",
   "execution_count": 2,
   "metadata": {},
   "outputs": [
    {
     "name": "stdout",
     "output_type": "stream",
     "text": [
      "matriz completa: \n",
      "97 93  5 78 10 61 27 100 91 15 47 10 59 23 72 \n",
      "45 87 68  0 73 99 68 70 31 14 86 37 20 29 21 \n",
      "79 16 53  5 91 23 68 70 20  1 66 32 60 33 57 \n",
      "56 24 27 83 58 94 72 28 21 26 46 86  3 84 49 \n",
      "34 19 35 62  2 99  4 55 90 26 82 19 37 71 16 \n",
      "99 54  9 74 14 71 93 35 53  9  0 74 68  4 82 \n",
      "67 72 36 61 45 31 41 46 20 14  1 34 88 17 79 \n",
      "60 40 57 42 46 22 29 14 69 49 59 50 34 55 85 \n",
      "64 73 46  0  6 17 48 54  6 19  5 98 44 73 93 \n",
      "87 93 78 13 59 84 15 81 15 23 36 84 38 97 33 \n",
      "\n",
      "elementos da primeira coluna: \n",
      "97 45 79 56 34 99 67 60 64 87 \n"
     ]
    }
   ],
   "source": [
    "from random import randint, random\n",
    "\n",
    "m=[]\n",
    "for num_linha in range(10):\n",
    "    linha=[]\n",
    "    for num_coluna in range(15):\n",
    "        linha.append(randint(0, 100))\n",
    "    m.append(linha)\n",
    "\n",
    "print('matriz completa: ')\n",
    "for linha in range (10):\n",
    "    for coluna in range(15):\n",
    "        print(f'{m[linha][coluna]:2d}', end=' ')\n",
    "    print()\n",
    "\n",
    "print('\\nelementos da primeira coluna: ')\n",
    "for linha in range (10):\n",
    "    print(f'{m[linha][0]:2d}',end=' ')\n",
    "\n",
    "print()\n"
   ]
  },
  {
   "cell_type": "code",
   "execution_count": 42,
   "metadata": {},
   "outputs": [
    {
     "name": "stdout",
     "output_type": "stream",
     "text": [
      "matriz completa: \n",
      " 1  2  3 \n",
      " 4  5  6 \n",
      " 7  8  9 \n",
      "15\n"
     ]
    }
   ],
   "source": [
    "M=[]\n",
    "for num_linhas in range(3):\n",
    "    linha=[]\n",
    "    for num_colunas in range(3):\n",
    "        h=int(input('escreva os numeros da matriz 3x3: '))\n",
    "        linha.append(h)\n",
    "    M.append(linha)\n",
    "\n",
    "print('matriz completa: ')\n",
    "for linha in range (3):\n",
    "    for coluna in range(3):\n",
    "        print(f'{M[linha][coluna]:2d}', end=' ')\n",
    "    print()\n",
    "\n",
    "soma_diagonal=0\n",
    "for i in range (3):\n",
    "    soma_diagonal += M[i][i]\n",
    "\n",
    "print (soma_diagonal)"
   ]
  },
  {
   "cell_type": "code",
   "execution_count": 44,
   "metadata": {},
   "outputs": [
    {
     "name": "stdout",
     "output_type": "stream",
     "text": [
      "matriz completa: \n",
      " 2  3  1  5 \n",
      " 3  7  5  8 \n",
      " 9  3  1  6 \n",
      " 2  7  1  1 \n",
      "[9, 15, 13, 9]\n"
     ]
    }
   ],
   "source": [
    "M=[]\n",
    "for num_linhas in range(4):\n",
    "    linha=[]\n",
    "    for num_colunas in range(4):\n",
    "        h=int(input('escreva os numeros da matriz 3x3: '))\n",
    "        linha.append(h)\n",
    "    M.append(linha)\n",
    "\n",
    "print('matriz completa: ')\n",
    "for linha in range (4):\n",
    "    for coluna in range(4):\n",
    "        print(f'{M[linha][coluna]:2d}', end=' ')\n",
    "    print()\n",
    "\n",
    "soma_impares=[0,0,0,0]\n",
    "for i in range (4):       \n",
    "    for j in range(4):\n",
    "        if M[i][j] % 2 ==1:\n",
    "            soma_impares[i] += M[i][j]\n",
    "\n",
    "print (soma_impares)"
   ]
  },
  {
   "cell_type": "code",
   "execution_count": 54,
   "metadata": {},
   "outputs": [
    {
     "name": "stdout",
     "output_type": "stream",
     "text": [
      "matriz completa: \n",
      " 3 10  4  7  6 \n",
      " 1  4  4  7  5 \n",
      " 8  2  4  2  9 \n",
      " 3  0  1  3  2 \n",
      " 9  3  4  7  5 \n",
      " 5  6  8 10  8 \n",
      " 1  8  9  9  9 \n",
      " 1  5  6  5  8 \n",
      " 3  5  1  4  2 \n",
      " 2  8  0  6  5 \n",
      "matriz transposta: \n",
      " 3  1  8  3  9  5  1  1  3  2 \n",
      "10  4  2  0  3  6  8  5  5  8 \n",
      " 4  4  4  1  4  8  9  6  1  0 \n",
      " 7  7  2  3  7 10  9  5  4  6 \n",
      " 6  5  9  2  5  8  9  8  2  5 \n"
     ]
    }
   ],
   "source": [
    "from random import randint, random\n",
    "M=[]\n",
    "for num_linhas in range(10):\n",
    "    linha=[]\n",
    "    for num_colunas in range(5):\n",
    "        linha.append(randint(0, 10))\n",
    "    M.append(linha)\n",
    "\n",
    "print('matriz completa: ')\n",
    "for linha in range (10):\n",
    "    for coluna in range(5):\n",
    "        print(f'{M[linha][coluna]:2d}', end=' ')\n",
    "    print()\n",
    "mt=[]\n",
    "for i in range(5):\n",
    "    linha=[]\n",
    "    for j in range(10):\n",
    "        linha.append(M[j][i])\n",
    "    mt.append(linha)\n",
    "\n",
    "print('matriz transposta: ')\n",
    "for linha in range (5):\n",
    "    for coluna in range(10):\n",
    "        print(f'{mt[linha][coluna]:2d}', end=' ')\n",
    "    print()"
   ]
  },
  {
   "cell_type": "code",
   "execution_count": 62,
   "metadata": {},
   "outputs": [
    {
     "name": "stdout",
     "output_type": "stream",
     "text": [
      "matriz completa: \n",
      " 1  5  4  8  1  6  3  0 10  4  3  0 \n",
      "10  2  9  5  4  9 10  5  7  4  7  7 \n",
      " 6  1  3  2  3  3  2  4 10 10  0  9 \n",
      " 0  1  2  3  9  9  8  5  2  7  8  6 \n",
      " 9  6  8  8  6  8  4  8  7  9  6  2 \n",
      " 1 10  5  8  9  7  8  0 10  1  2  3 \n",
      " 9  4  5  6  0  8  2  2  1  0  5  1 \n",
      " 9  1  5  2  0  8  4  3  9  8  0  3 \n",
      " 9  9  4 10  0  5  4  4  8  3  2  0 \n",
      " 4  7  3  3  0  3  8  2  1  6  1  9 \n",
      " 6  1  0  1  3  9  1  9  4  2  8  8 \n",
      " 5  3  3  7  2  7  8  7  6  9  5 10 \n",
      "é para ser S ou M\n"
     ]
    }
   ],
   "source": [
    "M=[]\n",
    "for num_linhas in range(12):\n",
    "    linha=[]\n",
    "    for num_colunas in range(12):\n",
    "        linha.append(randint(0, 10))\n",
    "    M.append(linha)\n",
    "\n",
    "print('matriz completa: ')\n",
    "for linha in range (12):\n",
    "    for coluna in range(12):\n",
    "        print(f'{M[linha][coluna]:2d}', end=' ')\n",
    "    print()\n",
    "cont=0\n",
    "soma_diagonal=0\n",
    "for i in range (12):\n",
    "    for j in range(12):\n",
    "        if i>j:\n",
    "            soma_diagonal += M[i][j]\n",
    "            cont +=1\n",
    "\n",
    "q=str(input('quer a media(M) ou a soma(S)'))\n",
    "if q == 'M' or q == 'm':\n",
    "    print (f'{soma_diagonal/cont:.2f}')\n",
    "elif q == 'S' or q == 's':\n",
    "    print (soma_diagonal)\n",
    "else:\n",
    "    print('é para ser S ou M')\n"
   ]
  },
  {
   "cell_type": "code",
   "execution_count": null,
   "metadata": {},
   "outputs": [],
   "source": []
  }
 ],
 "metadata": {
  "kernelspec": {
   "display_name": "base",
   "language": "python",
   "name": "python3"
  },
  "language_info": {
   "codemirror_mode": {
    "name": "ipython",
    "version": 3
   },
   "file_extension": ".py",
   "mimetype": "text/x-python",
   "name": "python",
   "nbconvert_exporter": "python",
   "pygments_lexer": "ipython3",
   "version": "3.12.7"
  }
 },
 "nbformat": 4,
 "nbformat_minor": 2
}
